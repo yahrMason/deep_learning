{
 "cells": [
  {
   "cell_type": "code",
   "execution_count": 1,
   "metadata": {},
   "outputs": [],
   "source": [
    "# Dependencies\n",
    "import datetime as dt\n",
    "import pandas as pd\n",
    "import yfinance as yf\n",
    "import numpy as np\n",
    "import math\n",
    "import matplotlib.pyplot as plt"
   ]
  },
  {
   "cell_type": "markdown",
   "metadata": {},
   "source": [
    "## 0 Define Stock Parameters"
   ]
  },
  {
   "cell_type": "code",
   "execution_count": 2,
   "metadata": {},
   "outputs": [],
   "source": [
    "# Stock Parameters\n",
    "ticker = 'NFLX'\n",
    "start = '2018-11-01'\n",
    "end = '2020-01-01'"
   ]
  },
  {
   "cell_type": "markdown",
   "metadata": {},
   "source": [
    "## 1 Download and Process Data"
   ]
  },
  {
   "cell_type": "code",
   "execution_count": 3,
   "metadata": {},
   "outputs": [],
   "source": [
    "# Download pricing data\n",
    "total_dat = yf.Ticker(ticker).history(period='max').iloc[:,1:2].values\n",
    "\n",
    "# Train-Test split\n",
    "train_part = 0.80\n",
    "train_split = np.arange(math.floor(train_part*len(total_dat)))\n",
    "test_split = np.arange(math.floor(train_part*len(total_dat)), len(total_dat))\n",
    "\n",
    "train_dat = total_dat[train_split]\n",
    "test_dat = total_dat[test_split]\n",
    "\n",
    "# interoplate missing values\n",
    "def interp_nan(x):\n",
    "    array = x[:,0]\n",
    "    indicies = np.where(np.isnan(array))[0]\n",
    "    indicies = [int(x) for x in indicies]\n",
    "    for ix in indicies:\n",
    "        if (ix != 0) & (ix != len(array)):\n",
    "            array[ix] = (array[ix-1]+array[ix+1])/2\n",
    "        elif ix == len(array):\n",
    "            array[ix] = array[ix-1]\n",
    "        else:\n",
    "            array[ix] = array[ix+1]\n",
    "    return array.reshape((len(array),1))\n",
    "\n",
    "train_dat = interp_nan(train_dat)\n",
    "test_dat = interp_nan(test_dat)\n",
    "\n",
    "# Feature Scaling\n",
    "# We will use \"Normalization\" (value-min)/range instead of standardization\n",
    "from sklearn.preprocessing import MinMaxScaler\n",
    "sc = MinMaxScaler(feature_range = (0, 1))\n",
    "train_dat_scaled = sc.fit_transform(train_dat)\n",
    "# will feature scale the test data later\n",
    "\n",
    "# Creating a data structure with n timesteps and 1 output\n",
    "ts = 30 # timesteps\n",
    "X_train = []\n",
    "y_train = []\n",
    "for i in range(ts, len(train_dat_scaled)):\n",
    "    X_train.append(train_dat_scaled[i-ts:i, 0])\n",
    "    y_train.append(train_dat_scaled[i, 0])\n",
    "X_train, y_train = np.array(X_train), np.array(y_train)\n",
    "\n",
    "# this is where we scale the test data\n",
    "inputs = total_dat[len(train_dat) - len(test_dat) - ts:]\n",
    "inputs = inputs.reshape(-1,1)\n",
    "inputs = sc.transform(inputs)\n",
    "\n",
    "X_test = []\n",
    "for i in range(ts, ts+len(test_dat)):\n",
    "    X_test.append(inputs[i-ts:i, 0])\n",
    "X_test = np.array(X_test)\n",
    "\n",
    "\n",
    "# Reshaping\n",
    "# ** we need to reshape to a 3D tensor as that is what is expected\n",
    "# add that last one in order to signify how many indicators we have\n",
    "X_train = np.reshape(X_train, (X_train.shape[0], X_train.shape[1], 1))\n",
    "X_test = np.reshape(X_test, (X_test.shape[0], X_test.shape[1], 1))"
   ]
  },
  {
   "cell_type": "markdown",
   "metadata": {},
   "source": [
    "## 2 Building the RNN"
   ]
  },
  {
   "cell_type": "code",
   "execution_count": 4,
   "metadata": {},
   "outputs": [
    {
     "name": "stderr",
     "output_type": "stream",
     "text": [
      "Using TensorFlow backend.\n"
     ]
    },
    {
     "name": "stdout",
     "output_type": "stream",
     "text": [
      "_________________________________________________________________\n",
      "Layer (type)                 Output Shape              Param #   \n",
      "=================================================================\n",
      "lstm_1 (LSTM)                (None, 30, 50)            10400     \n",
      "_________________________________________________________________\n",
      "dropout_1 (Dropout)          (None, 30, 50)            0         \n",
      "_________________________________________________________________\n",
      "lstm_2 (LSTM)                (None, 30, 75)            37800     \n",
      "_________________________________________________________________\n",
      "dropout_2 (Dropout)          (None, 30, 75)            0         \n",
      "_________________________________________________________________\n",
      "lstm_3 (LSTM)                (None, 30)                12720     \n",
      "_________________________________________________________________\n",
      "dropout_3 (Dropout)          (None, 30)                0         \n",
      "_________________________________________________________________\n",
      "dense_1 (Dense)              (None, 1)                 31        \n",
      "=================================================================\n",
      "Total params: 60,951\n",
      "Trainable params: 60,951\n",
      "Non-trainable params: 0\n",
      "_________________________________________________________________\n"
     ]
    }
   ],
   "source": [
    "# Importing the Keras libraries and packages\n",
    "from keras.models import Sequential\n",
    "from keras.layers import Dense\n",
    "from keras.layers import LSTM\n",
    "from keras.layers import Dropout\n",
    "\n",
    "# Initialising the RNN\n",
    "regressor = Sequential()\n",
    "\n",
    "# Adding the first LSTM layer and some Dropout regularisation\n",
    "# will only specify the last 2 diminensions because the observations dimension (0) is already assumed\n",
    "regressor.add(LSTM(units = 50, return_sequences = True, input_shape = (X_train.shape[1], 1)))\n",
    "regressor.add(Dropout(0.1))\n",
    "\n",
    "# Adding a second LSTM layer and some Dropout regulariation\n",
    "regressor.add(LSTM(units = 75, return_sequences = True))\n",
    "regressor.add(Dropout(0.1))\n",
    "\n",
    "# Adding a third LSTM layer and some Dropout regularisation\n",
    "regressor.add(LSTM(units = 30))\n",
    "regressor.add(Dropout(0.1))\n",
    "\n",
    "# Adding the output layer\n",
    "regressor.add(Dense(units = 1))\n",
    "\n",
    "# Compiling the RNN\n",
    "regressor.compile(optimizer = 'adam', loss = 'mean_squared_error')\n",
    "\n",
    "# Summary\n",
    "regressor.summary()"
   ]
  },
  {
   "cell_type": "markdown",
   "metadata": {},
   "source": [
    "### 2.1 Train the Model"
   ]
  },
  {
   "cell_type": "code",
   "execution_count": 5,
   "metadata": {},
   "outputs": [
    {
     "name": "stdout",
     "output_type": "stream",
     "text": [
      "Epoch 1/10\n",
      "3804/3804 [==============================] - 46s 12ms/step - loss: 0.0043\n",
      "Epoch 2/10\n",
      "3804/3804 [==============================] - 39s 10ms/step - loss: 9.2108e-04\n",
      "Epoch 3/10\n",
      "3804/3804 [==============================] - 39s 10ms/step - loss: 8.5157e-04\n",
      "Epoch 4/10\n",
      "3804/3804 [==============================] - 38s 10ms/step - loss: 7.6244e-04\n",
      "Epoch 5/10\n",
      "3804/3804 [==============================] - 40s 10ms/step - loss: 7.9992e-04\n",
      "Epoch 6/10\n",
      "3804/3804 [==============================] - 41s 11ms/step - loss: 7.4017e-04\n",
      "Epoch 7/10\n",
      "3804/3804 [==============================] - 39s 10ms/step - loss: 6.6017e-04\n",
      "Epoch 8/10\n",
      "3804/3804 [==============================] - 40s 11ms/step - loss: 5.6674e-04\n",
      "Epoch 9/10\n",
      "3804/3804 [==============================] - 40s 10ms/step - loss: 5.9353e-04\n",
      "Epoch 10/10\n",
      "3804/3804 [==============================] - 39s 10ms/step - loss: 6.1681e-04\n"
     ]
    },
    {
     "data": {
      "text/plain": [
       "<keras.callbacks.History at 0x1e83f13eda0>"
      ]
     },
     "execution_count": 5,
     "metadata": {},
     "output_type": "execute_result"
    }
   ],
   "source": [
    "# Fitting the RNN to the Training set\n",
    "regressor.fit(X_train, y_train, epochs = 10, batch_size = 20)"
   ]
  },
  {
   "cell_type": "markdown",
   "metadata": {},
   "source": [
    "### 2.2 Generate Forecast"
   ]
  },
  {
   "cell_type": "code",
   "execution_count": 15,
   "metadata": {},
   "outputs": [],
   "source": [
    "# predict future price\n",
    "pred_dat = regressor.predict(X_test)\n",
    "pred_dat = sc.inverse_transform(pred_dat) \n",
    "pred_dat = pred_dat + (train_dat[-1] - pred_dat[0])\n",
    "pred_dat = np.concatenate((train_dat[:,0], pred_dat[:,0]))"
   ]
  },
  {
   "cell_type": "markdown",
   "metadata": {},
   "source": [
    "### 2.3 Plot Results"
   ]
  },
  {
   "cell_type": "code",
   "execution_count": 16,
   "metadata": {},
   "outputs": [
    {
     "data": {
      "image/png": "[encoded data removed]",
      "text/plain": [
       "<Figure size 432x288 with 1 Axes>"
      ]
     },
     "metadata": {
      "needs_background": "light"
     },
     "output_type": "display_data"
    }
   ],
   "source": [
    "# Visualising the results\n",
    "plt.plot(pred_dat, color = 'blue', label = f'Predicted {ticker} Stock Price')\n",
    "plt.plot(total_dat, color = 'red', label = f'Real {ticker} Stock Price')\n",
    "plt.title(f'{ticker} Stock Price Prediction')\n",
    "plt.xlabel('Time')\n",
    "plt.ylabel(f'{ticker} Stock Price')\n",
    "plt.legend()\n",
    "plt.show()"
   ]
  }
 ],
 "metadata": {
  "kernelspec": {
   "display_name": "Python 3",
   "language": "python",
   "name": "python3"
  },
  "language_info": {
   "codemirror_mode": {
    "name": "ipython",
    "version": 3
   },
   "file_extension": ".py",
   "mimetype": "text/x-python",
   "name": "python",
   "nbconvert_exporter": "python",
   "pygments_lexer": "ipython3",
   "version": "3.6.8"
  }
 },
 "nbformat": 4,
 "nbformat_minor": 2
}
